{
 "cells": [
  {
   "cell_type": "code",
   "execution_count": null,
   "metadata": {},
   "outputs": [],
   "source": [
    "import sys\n",
    "sys.path.append('..')\n",
    "import numpy as np\n",
    "import skimage\n",
    "import os\n",
    "os.path.abspath('')\n",
    "\n",
    "import torch\n",
    "import torchvision\n",
    "import matplotlib.pyplot as plt\n",
    "import torchxrayvision as xrv\n",
    "import torchvision.transforms as tf\n",
    "from pathlib import Path  \n",
    "from tqdm import tqdm\n",
    "from causal_models.train_setup import setup_dataloaders"
   ]
  },
  {
   "cell_type": "code",
   "execution_count": null,
   "metadata": {},
   "outputs": [],
   "source": [
    "DEVICE=\"cuda:0\"\n",
    "PADCHEST_ROOT = Path(\"/vol/biodata/data/chest_xray/BIMCV-PADCHEST\")\n",
    "PADCHEST_IMAGES = PADCHEST_ROOT / \"images\"\n",
    "\n",
    "SEG_ROOT = Path(\"/vol/biomedic3/tx1215/DATA/chest_xray/padchest-segmentation\") # Where to save segmentations\n",
    "os.makedirs(SEG_ROOT, exist_ok=True)"
   ]
  },
  {
   "cell_type": "markdown",
   "metadata": {},
   "source": [
    "### Load Model"
   ]
  },
  {
   "cell_type": "code",
   "execution_count": null,
   "metadata": {},
   "outputs": [],
   "source": [
    "model = xrv.baseline_models.chestx_det.PSPNet()\n",
    "model.to(DEVICE)\n",
    "model.eval()\n",
    "\n",
    "for i in range(len(model.targets)):\n",
    "    print(model.targets[i].replace(' ', '-'))"
   ]
  },
  {
   "cell_type": "markdown",
   "metadata": {},
   "source": [
    "### Data loader"
   ]
  },
  {
   "cell_type": "code",
   "execution_count": null,
   "metadata": {},
   "outputs": [],
   "source": [
    "class Hparams:\n",
    "    def update(self, dict):\n",
    "        for k, v in dict.items():\n",
    "            setattr(self, k, v)\n",
    "\n",
    "args = Hparams()\n",
    "args.hps = \"padchest224_224\"\n",
    "args.parents_x = [\"sex\", \"age\"]\n",
    "args.batch_size = 1\n",
    "\n",
    "dataloaders = setup_dataloaders(args=args, cache=False, shuffle_train=False)"
   ]
  },
  {
   "cell_type": "markdown",
   "metadata": {},
   "source": [
    "### Get segmentations and save them"
   ]
  },
  {
   "cell_type": "code",
   "execution_count": null,
   "metadata": {},
   "outputs": [],
   "source": [
    "mininterval = 0.1\n",
    "_mode=\"valid\"\n",
    "loader = tqdm(\n",
    "    enumerate(dataloaders[_mode]), total=len(dataloaders[_mode]), mininterval=mininterval\n",
    ")\n",
    "# transform = torchvision.transforms.Compose([xrv.datasets.XRayCenterCrop(), xrv.datasets.XRayResizer(512)])\n",
    "\n",
    "for i in range(len(model.targets)):\n",
    "    os.makedirs(SEG_ROOT/ model.targets[i].replace(' ', '-'), exist_ok=True)\n",
    "\n",
    "for i, batch in loader:\n",
    "    img =  skimage.io.imread(Path(PADCHEST_IMAGES)/batch['shortpath'][0], as_gray=True)\n",
    "    img = img / (img.max() + 1e-12) * 255\n",
    "    # print(f\"img max: {img.max()}, min: {img.min()}\")\n",
    "\n",
    "    img = xrv.datasets.normalize(img, 255) # convert 8-bit image to [-1024, 1024] range\n",
    "    img = img[None, ...] # Make single color channel\n",
    "    # img = transform(img)\n",
    "    img = torch.from_numpy(img).to(DEVICE)\n",
    "\n",
    "    with torch.no_grad():\n",
    "        pred = model(img)\n",
    "    pred = torch.sigmoid(pred)\n",
    "    pred = pred *255\n",
    "    # print(len(model.targets))\n",
    "    # print(batch['shortpath'][0])\n",
    "    for j in range(len(model.targets)):\n",
    "        # print(Path(SEG_ROOT)/Path(model.targets[j].replace(' ', '-')) / batch['shortpath'][0])\n",
    "        skimage.io.imsave(Path(SEG_ROOT)/Path(model.targets[j].replace(' ', '-')) / batch['shortpath'][0], pred[0,j].cpu().numpy().astype(np.uint8))"
   ]
  },
  {
   "cell_type": "code",
   "execution_count": null,
   "metadata": {},
   "outputs": [],
   "source": []
  }
 ],
 "metadata": {
  "kernelspec": {
   "display_name": "tian_breast",
   "language": "python",
   "name": "python3"
  },
  "language_info": {
   "codemirror_mode": {
    "name": "ipython",
    "version": 3
   },
   "file_extension": ".py",
   "mimetype": "text/x-python",
   "name": "python",
   "nbconvert_exporter": "python",
   "pygments_lexer": "ipython3",
   "version": "3.11.8"
  }
 },
 "nbformat": 4,
 "nbformat_minor": 2
}
