{
 "cells": [
  {
   "cell_type": "code",
   "execution_count": 2,
   "metadata": {},
   "outputs": [],
   "source": [
    "import sys\n",
    "import argparse\n",
    "import random\n",
    "import copy\n",
    "import pyro\n",
    "import torch\n",
    "import os\n",
    "import torch.nn as nn\n",
    "import matplotlib.pyplot as plt\n",
    "from tqdm import tqdm\n",
    "from sklearn.metrics import roc_auc_score, accuracy_score\n",
    "import numpy as np\n",
    "import os\n",
    "os.environ['CUDA_DEVICE_ORDER']='PCI_BUS_ID'\n",
    "os.environ['CUDA_VISIBLE_DEVICES']='0'\n",
    "sys.path.append('..')\n",
    "sys.path.append('../..')\n",
    "from causal_models.trainer import preprocess_batch\n",
    "from train_setup import setup_directories, setup_tensorboard, setup_logging\n",
    "from train_setup import setup_dataloaders\n",
    "# From datasets import get_attr_max_min\n",
    "from utils import EMA, seed_all\n",
    "from dscm.dscm import DSCM\n",
    "from hvae2 import HVAE2\n",
    "import torch.nn.functional as F\n",
    "from pgm.train_pgm import sup_epoch, eval_epoch\n",
    "from pgm.utils_pgm import check_nan, update_stats, calculate_loss, plot_cf\n",
    "from dscm.dscm import vae_preprocess\n",
    "from pgm.layers import TraceStorage_ELBO\n",
    "from pgm.chest_pgm_regressor import FlowPGM\n",
    "\n",
    "from unet import ResUnet\n"
   ]
  },
  {
   "cell_type": "markdown",
   "metadata": {},
   "source": [
    "### Setup dataloaders"
   ]
  },
  {
   "cell_type": "code",
   "execution_count": 3,
   "metadata": {},
   "outputs": [
    {
     "name": "stdout",
     "output_type": "stream",
     "text": [
      "\n",
      "Loading VAE checkpoint: ../checkpoints/Left-Lung_volume_Right-Lung_volume_Heart_volume/mimic_crop_256_64_beta_3_segmentations/checkpoint.pt\n"
     ]
    }
   ],
   "source": [
    "class Hparams:\n",
    "    def update(self, dict):\n",
    "        for k, v in dict.items():\n",
    "            setattr(self, k, v)\n",
    "\n",
    "# Load deep VAE\n",
    "beta = 3\n",
    "vae_path = f\"../checkpoints/Left-Lung_volume_Right-Lung_volume_Heart_volume/mimic_crop_256_64_beta_{beta}_segmentations/checkpoint.pt\"\n",
    "\n",
    "print(f'\\nLoading VAE checkpoint: {vae_path}')\n",
    "vae_checkpoint = torch.load(vae_path)\n",
    "vae_args = Hparams()\n",
    "vae_args.batch_size = 10\n",
    "\n",
    "vae_args.update(vae_checkpoint['hparams'])\n"
   ]
  },
  {
   "cell_type": "code",
   "execution_count": 4,
   "metadata": {},
   "outputs": [
    {
     "name": "stdout",
     "output_type": "stream",
     "text": [
      "{'project_name': 'MIMIC_crop generation', 'seed': 11, 'mixed_precision': False, 'is_unit_test_config': False, 'data': {'batch_size': 16, 'num_workers': 12, 'pin_memory': True, 'input_channels': 1, 'weights': 'None', 'augmentations': {'resize': [256, 64], 'center_crop': 'None', 'random_rotation': 0, 'horizontal_flip': False, 'vertical_flip': False, 'random_crop': 'None', 'random_color_jitter': 0.1, 'random_erase_scale': [0.0, 0.0], 'sharp': 0.0}, 'prop_train': 1.0, '_target_': 'data_handling.chest_xray.MimicDataModule', 'dataset': 'mimic', 'domain': 'None', 'cache': False, 'seg_target_list': ['Left-Lung', 'Right-Lung', 'Heart']}, 'trainer': {'name': 'base', 'lr': 0.001, 'num_epochs': 400, 'patience_for_scheduler': 10, 'metric_to_monitor': 'Val/loss', 'metric_to_monitor_mode': 'min', 'val_check_interval': 'None', 'weight_decay': 0.0, 'use_train_augmentations': True, 'loss': 'ce', 'contrastive_temperature': 0.1, 'return_two_views': False, 'finetune_path': 'None', 'device': [0], 'max_steps': 'None', 'freeze_encoder': False}, 'model': {'encoder_name': 'resnet18', 'pretrained': False}}\n",
      "Train df: \n",
      "sex\n",
      "Male      0.52424\n",
      "Female    0.47576\n",
      "Name: proportion, dtype: float64\n",
      "disease\n",
      "No Finding          0.553934\n",
      "Pleural Effusion    0.446066\n",
      "Name: proportion, dtype: float64\n",
      "race\n",
      "White    0.781186\n",
      "Black    0.179704\n",
      "Asian    0.039111\n",
      "Name: proportion, dtype: float64\n",
      "Len dataset 62336\n",
      "Validation df: \n"
     ]
    },
    {
     "name": "stderr",
     "output_type": "stream",
     "text": [
      "/vol/biomedic3/tx1215/heartflow_mimic_crop/causal_models/pgm/../../data_handling/chest_xray.py:129: FutureWarning: Downcasting behavior in `replace` is deprecated and will be removed in a future version. To retain the old behavior, explicitly call `result.infer_objects(copy=False)`. To opt-in to the future behavior, set `pd.set_option('future.no_silent_downcasting', True)`\n",
      "  df['disease'] = df['disease'].replace({'No Finding': 0, 'Pleural Effusion': 1})\n"
     ]
    },
    {
     "name": "stdout",
     "output_type": "stream",
     "text": [
      "sex\n",
      "Male      0.516252\n",
      "Female    0.483748\n",
      "Name: proportion, dtype: float64\n",
      "disease\n",
      "No Finding          0.541031\n",
      "Pleural Effusion    0.458969\n",
      "Name: proportion, dtype: float64\n",
      "race\n",
      "White    0.764848\n",
      "Black    0.188804\n",
      "Asian    0.046348\n",
      "Name: proportion, dtype: float64\n",
      "Len dataset 9968\n",
      "Test df: \n"
     ]
    },
    {
     "name": "stderr",
     "output_type": "stream",
     "text": [
      "/vol/biomedic3/tx1215/heartflow_mimic_crop/causal_models/pgm/../../data_handling/chest_xray.py:129: FutureWarning: Downcasting behavior in `replace` is deprecated and will be removed in a future version. To retain the old behavior, explicitly call `result.infer_objects(copy=False)`. To opt-in to the future behavior, set `pd.set_option('future.no_silent_downcasting', True)`\n",
      "  df['disease'] = df['disease'].replace({'No Finding': 0, 'Pleural Effusion': 1})\n"
     ]
    },
    {
     "name": "stdout",
     "output_type": "stream",
     "text": [
      "sex\n",
      "Male      0.522024\n",
      "Female    0.477976\n",
      "Name: proportion, dtype: float64\n",
      "disease\n",
      "No Finding          0.546651\n",
      "Pleural Effusion    0.453349\n",
      "Name: proportion, dtype: float64\n",
      "race\n",
      "White    0.772491\n",
      "Black    0.186999\n",
      "Asian    0.040511\n",
      "Name: proportion, dtype: float64\n",
      "Len dataset 30535\n"
     ]
    },
    {
     "name": "stderr",
     "output_type": "stream",
     "text": [
      "/vol/biomedic3/tx1215/heartflow_mimic_crop/causal_models/pgm/../../data_handling/chest_xray.py:129: FutureWarning: Downcasting behavior in `replace` is deprecated and will be removed in a future version. To retain the old behavior, explicitly call `result.infer_objects(copy=False)`. To opt-in to the future behavior, set `pd.set_option('future.no_silent_downcasting', True)`\n",
      "  df['disease'] = df['disease'].replace({'No Finding': 0, 'Pleural Effusion': 1})\n"
     ]
    }
   ],
   "source": [
    "dataloaders = setup_dataloaders(vae_args, cache=False, shuffle_train=False)"
   ]
  },
  {
   "cell_type": "code",
   "execution_count": 5,
   "metadata": {},
   "outputs": [
    {
     "name": "stderr",
     "output_type": "stream",
     "text": [
      "  0%|          | 1/615 [00:12<2:09:18, 12.64s/it]\n"
     ]
    }
   ],
   "source": [
    "for_count = 0\n",
    "unet=ResUnet(channel=1)\n",
    "for batch in tqdm(dataloaders[\"valid\"]):\n",
    "    for_count+=1\n",
    "    seg = unet(batch['x'])\n",
    "    if for_count>1:\n",
    "        break\n"
   ]
  },
  {
   "cell_type": "code",
   "execution_count": 35,
   "metadata": {},
   "outputs": [
    {
     "name": "stdout",
     "output_type": "stream",
     "text": [
      "torch.Size([16, 1, 256, 64])\n"
     ]
    }
   ],
   "source": [
    "print(seg.size())"
   ]
  },
  {
   "cell_type": "code",
   "execution_count": 55,
   "metadata": {},
   "outputs": [],
   "source": [
    "sum_seg = torch.sum(seg, dim=(1,2,3), keepdim=True)\n",
    "\n",
    "def get_min_max_valumes(volume_name=None, target_size=(256,64)):\n",
    "    _min, _max  = None, None\n",
    "    if target_size==(256,64):\n",
    "        if \"Left-Lung\" in volume_name:\n",
    "            _min, _max = 303, 5931\n",
    "        elif \"Right-Lung\" in volume_name:\n",
    "            _min, _max  = 302, 5948\n",
    "        elif \"Heart\" in volume_name:\n",
    "            _min, _max  = 300, 3756\n",
    "        else: \n",
    "            print(f\"wrong volume name: {volume_name}\")\n",
    "    elif target_size==(224,224):\n",
    "        if \"Left-Lung\" in volume_name:\n",
    "            _min, _max = 934, 18153\n",
    "        elif \"Right-Lung\" in volume_name:\n",
    "            _min, _max  = 912, 18218\n",
    "        elif \"Heart\" in volume_name:\n",
    "            _min, _max  = 897, 11522\n",
    "        else: \n",
    "            print(f\"wrong volume name: {volume_name}\")\n",
    "    return  _min, _max \n",
    "\n",
    "def get_norm_volumes(\n",
    "        seg,\n",
    "        volume_name,\n",
    "):\n",
    "    _min, _max = get_min_max_valumes(\n",
    "        volume_name = volume_name,\n",
    "        target_size=seg.size()[-2:],\n",
    "    )\n",
    "\n",
    "    sum_seg = torch.sum(seg, dim=(1,2,3), keepdim=False) # dim set for (B, C, H, W) segmentation\n",
    "\n",
    "    norm_seg = (sum_seg-_min) / _max\n",
    "    return norm_seg\n"
   ]
  },
  {
   "cell_type": "code",
   "execution_count": 57,
   "metadata": {},
   "outputs": [
    {
     "data": {
      "text/plain": [
       "tensor([1.3750, 1.3928, 1.3814, 1.3924, 1.3709, 1.3850, 1.3418, 1.3728, 1.3676,\n",
       "        1.3613, 1.3561, 1.4082, 1.3965, 1.3671, 1.3851, 1.3785],\n",
       "       grad_fn=<DivBackward0>)"
      ]
     },
     "execution_count": 57,
     "metadata": {},
     "output_type": "execute_result"
    }
   ],
   "source": [
    "get_norm_volumes(seg=seg, volume_name=\"Right-Lung_volume\")"
   ]
  },
  {
   "cell_type": "code",
   "execution_count": 58,
   "metadata": {},
   "outputs": [],
   "source": []
  },
  {
   "cell_type": "code",
   "execution_count": null,
   "metadata": {},
   "outputs": [],
   "source": []
  }
 ],
 "metadata": {
  "kernelspec": {
   "display_name": "tian_breast",
   "language": "python",
   "name": "python3"
  },
  "language_info": {
   "codemirror_mode": {
    "name": "ipython",
    "version": 3
   },
   "file_extension": ".py",
   "mimetype": "text/x-python",
   "name": "python",
   "nbconvert_exporter": "python",
   "pygments_lexer": "ipython3",
   "version": "3.11.8"
  }
 },
 "nbformat": 4,
 "nbformat_minor": 2
}
