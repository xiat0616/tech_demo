{
 "cells": [
  {
   "cell_type": "code",
   "execution_count": 1,
   "metadata": {},
   "outputs": [],
   "source": [
    "from pathlib import Path\n",
    "from typing import Callable, Dict, Optional\n",
    "import numpy as np\n",
    "import sys\n",
    "sys.path.append('..')\n",
    "import pandas as pd\n",
    "from sklearn.model_selection import train_test_split\n",
    "import torch\n",
    "from torch.utils.data import Dataset\n",
    "from skimage import io\n",
    "from torchvision.transforms import ToTensor, Resize, CenterCrop\n",
    "from data_handling.base import BaseDataModuleClass\n",
    "from datetime import datetime\n",
    "from data_handling.caching import SharedCache\n",
    "from hydra import compose, initialize\n",
    "# from data_handling.chest_xray import MimicDataset, MimicDataModule\n",
    "from data_handling.sampler import SamplerFactory\n",
    "from torch.utils.data import DataLoader\n",
    "from causal_models.train_setup import setup_dataloaders\n",
    "import matplotlib.pyplot as plt\n",
    "from tqdm import tqdm"
   ]
  },
  {
   "cell_type": "code",
   "execution_count": 3,
   "metadata": {},
   "outputs": [
    {
     "name": "stdout",
     "output_type": "stream",
     "text": [
      "{'project_name': 'chest X ray generation', 'seed': 11, 'mixed_precision': False, 'is_unit_test_config': False, 'data': {'batch_size': 1, 'num_workers': 12, 'pin_memory': True, 'input_channels': 1, 'weights': 'None', 'augmentations': {'resize': [224, 224], 'center_crop': 'None', 'random_rotation': 0, 'horizontal_flip': False, 'vertical_flip': False, 'random_crop': 'None', 'random_color_jitter': 0.1, 'random_erase_scale': [0.0, 0.0], 'sharp': 0.0}, 'prop_train': 1.0, '_target_': 'data_handling.rsna.RSNAPneumoniaDataModule', 'dataset': 'rsna', 'domain': 'None', 'cache': False, 'seg_target_list': ['Left-Lung', 'Right-Lung', 'Heart']}, 'trainer': {'name': 'base', 'lr': 0.001, 'num_epochs': 400, 'patience_for_scheduler': 10, 'metric_to_monitor': 'Val/loss', 'metric_to_monitor_mode': 'min', 'val_check_interval': 'None', 'weight_decay': 0.0, 'use_train_augmentations': True, 'loss': 'ce', 'contrastive_temperature': 0.1, 'return_two_views': False, 'finetune_path': 'None', 'device': [0], 'max_steps': 'None', 'freeze_encoder': False}, 'model': {'encoder_name': 'resnet18', 'pretrained': False}}\n",
      "N patients train 8633, val 1524, test 4354\n",
      "#train:  8633\n",
      "#val:    1524\n",
      "#test:   4354\n"
     ]
    }
   ],
   "source": [
    "class Hparams:\n",
    "    def update(self, dict):\n",
    "        for k, v in dict.items():\n",
    "            setattr(self, k, v)\n",
    "\n",
    "args = Hparams()\n",
    "args.hps = \"rsna224_224_with_seg\"\n",
    "args.parents_x = [\"finding\", \"sex\", \"age\"]\n",
    "args.batch_size = 1\n",
    "dataloaders = setup_dataloaders(args=args, cache=False, shuffle_train=False)"
   ]
  },
  {
   "cell_type": "code",
   "execution_count": null,
   "metadata": {},
   "outputs": [],
   "source": []
  }
 ],
 "metadata": {
  "kernelspec": {
   "display_name": "tian_breast",
   "language": "python",
   "name": "python3"
  },
  "language_info": {
   "codemirror_mode": {
    "name": "ipython",
    "version": 3
   },
   "file_extension": ".py",
   "mimetype": "text/x-python",
   "name": "python",
   "nbconvert_exporter": "python",
   "pygments_lexer": "ipython3",
   "version": "3.11.8"
  }
 },
 "nbformat": 4,
 "nbformat_minor": 2
}
