{
 "cells": [
  {
   "cell_type": "code",
   "execution_count": 1,
   "metadata": {},
   "outputs": [],
   "source": [
    "from pathlib import Path\n",
    "from typing import Callable, Dict, Optional\n",
    "import numpy as np\n",
    "import sys\n",
    "sys.path.append('..')\n",
    "import pandas as pd\n",
    "from sklearn.model_selection import train_test_split\n",
    "import torch\n",
    "from torch.utils.data import Dataset\n",
    "from skimage import io\n",
    "from torchvision.transforms import ToTensor, Resize, CenterCrop\n",
    "from data_handling.base import BaseDataModuleClass\n",
    "from datetime import datetime\n",
    "\n",
    "from data_handling.caching import SharedCache\n",
    "from hydra import compose, initialize\n",
    "# from data_handling.chest_xray import MimicDataset, MimicDataModule\n",
    "from data_handling.sampler import SamplerFactory\n",
    "from torch.utils.data import DataLoader\n",
    "from causal_models.train_setup import setup_dataloaders\n",
    "import matplotlib.pyplot as plt\n",
    "from tqdm import tqdm\n",
    "\n"
   ]
  },
  {
   "cell_type": "code",
   "execution_count": 2,
   "metadata": {},
   "outputs": [
    {
     "name": "stdout",
     "output_type": "stream",
     "text": [
      "{'project_name': 'chest X ray generation', 'seed': 11, 'mixed_precision': False, 'is_unit_test_config': False, 'data': {'batch_size': 16, 'num_workers': 12, 'pin_memory': True, 'input_channels': 1, 'weights': 'None', 'augmentations': {'resize': [224, 224], 'center_crop': 'None', 'random_rotation': 0, 'horizontal_flip': False, 'vertical_flip': False, 'random_crop': 'None', 'random_color_jitter': 0.1, 'random_erase_scale': [0.0, 0.0], 'sharp': 0.0}, 'prop_train': 1.0, '_target_': 'data_handling.chest_xray.MimicDataModule', 'dataset': 'mimic', 'domain': 'None', 'cache': False, 'seg_target_list': ['Left-Lung', 'Right-Lung', 'Heart']}, 'trainer': {'name': 'base', 'lr': 0.001, 'num_epochs': 400, 'patience_for_scheduler': 10, 'metric_to_monitor': 'Val/loss', 'metric_to_monitor_mode': 'min', 'val_check_interval': 'None', 'weight_decay': 0.0, 'use_train_augmentations': True, 'loss': 'ce', 'contrastive_temperature': 0.1, 'return_two_views': False, 'finetune_path': 'None', 'device': [0], 'max_steps': 'None', 'freeze_encoder': False}, 'model': {'encoder_name': 'resnet18', 'pretrained': False}}\n",
      "Train df: \n",
      "sex\n",
      "Male      0.52424\n",
      "Female    0.47576\n",
      "Name: proportion, dtype: float64\n",
      "disease\n",
      "No Finding          0.553934\n",
      "Pleural Effusion    0.446066\n",
      "Name: proportion, dtype: float64\n",
      "race\n",
      "White    0.781186\n",
      "Black    0.179704\n",
      "Asian    0.039111\n",
      "Name: proportion, dtype: float64\n",
      "Len dataset 62336\n",
      "Validation df: \n"
     ]
    },
    {
     "name": "stderr",
     "output_type": "stream",
     "text": [
      "/vol/biomedic3/tx1215/tech-demo/data_handling/../data_handling/chest_xray.py:129: FutureWarning: Downcasting behavior in `replace` is deprecated and will be removed in a future version. To retain the old behavior, explicitly call `result.infer_objects(copy=False)`. To opt-in to the future behavior, set `pd.set_option('future.no_silent_downcasting', True)`\n",
      "  df['disease'] = df['disease'].replace({'No Finding': 0, 'Pleural Effusion': 1})\n"
     ]
    },
    {
     "name": "stdout",
     "output_type": "stream",
     "text": [
      "sex\n",
      "Male      0.516252\n",
      "Female    0.483748\n",
      "Name: proportion, dtype: float64\n",
      "disease\n",
      "No Finding          0.541031\n",
      "Pleural Effusion    0.458969\n",
      "Name: proportion, dtype: float64\n",
      "race\n",
      "White    0.764848\n",
      "Black    0.188804\n",
      "Asian    0.046348\n",
      "Name: proportion, dtype: float64\n",
      "Len dataset 9968\n",
      "Test df: \n"
     ]
    },
    {
     "name": "stderr",
     "output_type": "stream",
     "text": [
      "/vol/biomedic3/tx1215/tech-demo/data_handling/../data_handling/chest_xray.py:129: FutureWarning: Downcasting behavior in `replace` is deprecated and will be removed in a future version. To retain the old behavior, explicitly call `result.infer_objects(copy=False)`. To opt-in to the future behavior, set `pd.set_option('future.no_silent_downcasting', True)`\n",
      "  df['disease'] = df['disease'].replace({'No Finding': 0, 'Pleural Effusion': 1})\n"
     ]
    },
    {
     "name": "stdout",
     "output_type": "stream",
     "text": [
      "sex\n",
      "Male      0.522024\n",
      "Female    0.477976\n",
      "Name: proportion, dtype: float64\n",
      "disease\n",
      "No Finding          0.546651\n",
      "Pleural Effusion    0.453349\n",
      "Name: proportion, dtype: float64\n",
      "race\n",
      "White    0.772491\n",
      "Black    0.186999\n",
      "Asian    0.040511\n",
      "Name: proportion, dtype: float64\n",
      "Len dataset 30535\n"
     ]
    },
    {
     "name": "stderr",
     "output_type": "stream",
     "text": [
      "/vol/biomedic3/tx1215/tech-demo/data_handling/../data_handling/chest_xray.py:129: FutureWarning: Downcasting behavior in `replace` is deprecated and will be removed in a future version. To retain the old behavior, explicitly call `result.infer_objects(copy=False)`. To opt-in to the future behavior, set `pd.set_option('future.no_silent_downcasting', True)`\n",
      "  df['disease'] = df['disease'].replace({'No Finding': 0, 'Pleural Effusion': 1})\n"
     ]
    }
   ],
   "source": [
    "class Hparams:\n",
    "    def update(self, dict):\n",
    "        for k, v in dict.items():\n",
    "            setattr(self, k, v)\n",
    "\n",
    "args = Hparams()\n",
    "args.hps = \"mimic224_224_with_seg\"\n",
    "args.parents_x = [\"finding\", \"race\", \"sex\", \"age\"]\n",
    "args.batch_size = 16\n",
    "dataloaders = setup_dataloaders(args=args, cache=False, shuffle_train=False)"
   ]
  },
  {
   "cell_type": "code",
   "execution_count": 3,
   "metadata": {},
   "outputs": [],
   "source": [
    "train_set = dataloaders['train'].dataset"
   ]
  },
  {
   "cell_type": "code",
   "execution_count": 4,
   "metadata": {},
   "outputs": [],
   "source": [
    "example = train_set.__getitem__(0)"
   ]
  },
  {
   "cell_type": "code",
   "execution_count": 8,
   "metadata": {},
   "outputs": [
    {
     "name": "stdout",
     "output_type": "stream",
     "text": [
      "torch.Size([1])\n"
     ]
    }
   ],
   "source": [
    "print(example['finding'].size())"
   ]
  },
  {
   "cell_type": "code",
   "execution_count": null,
   "metadata": {},
   "outputs": [],
   "source": [
    "img_path = train_set.img_paths[0]\n",
    "print(Path(\"/vol/biodata/data/chest_xray/mimic-cxr-jpg-1024/data\")/img_path)"
   ]
  },
  {
   "cell_type": "code",
   "execution_count": null,
   "metadata": {},
   "outputs": [],
   "source": [
    "example_batch = train_set.__getitem__(69)\n",
    "\n",
    "plt.imshow(example_batch['x'][0], cmap='gray')"
   ]
  },
  {
   "cell_type": "code",
   "execution_count": null,
   "metadata": {},
   "outputs": [],
   "source": [
    "print(example_batch['Left-Lung_volume'])"
   ]
  },
  {
   "cell_type": "markdown",
   "metadata": {},
   "source": [
    "### Find max and min volumes of each seg"
   ]
  },
  {
   "cell_type": "code",
   "execution_count": null,
   "metadata": {},
   "outputs": [],
   "source": [
    "modes=['train','valid','test']\n",
    "print(dataloaders['train'].dataset.seg_target_list)\n",
    "min_volumes = {k: 100000000 for k in dataloaders['train'].dataset.seg_target_list}\n",
    "max_volumes = {k: 0 for k in dataloaders['train'].dataset.seg_target_list}\n",
    "min_index = {k: -1 for k in dataloaders['train'].dataset.seg_target_list}\n",
    "max_index = {k: -1 for k in dataloaders['train'].dataset.seg_target_list}\n",
    "\n",
    "for mode in modes:\n",
    "    exclude_ids = []\n",
    "    print(min_volumes.keys())\n",
    "    for idx in  range(len(dataloaders[mode].dataset)):\n",
    "        batch = dataloaders[mode].dataset.__getitem__(idx)\n",
    "        for k in min_volumes.keys():\n",
    "            # if batch[f\"{k}_volume\"].min() <300:\n",
    "            #     if idx not in exclude_ids:\n",
    "            #         exclude_ids.append(idx)\n",
    "            #         continue\n",
    "            # print(f\"k: {k}, {batch[f'{k}_volume'].min()}\")\n",
    "            if min_volumes[k] > batch[f\"{k}_volume\"].min():\n",
    "                min_volumes[k] = batch[f\"{k}_volume\"].min()\n",
    "                min_index[k] = idx\n",
    "            if max_volumes[k] < batch[f\"{k}_volume\"].max():\n",
    "                max_volumes[k] = batch[f\"{k}_volume\"].max()\n",
    "                max_index[k] = idx"
   ]
  },
  {
   "cell_type": "code",
   "execution_count": null,
   "metadata": {},
   "outputs": [],
   "source": [
    "print(f\"max_volumes: {max_volumes}\")\n",
    "print(f\"min_volumes: {min_volumes}\")\n"
   ]
  },
  {
   "cell_type": "code",
   "execution_count": null,
   "metadata": {},
   "outputs": [],
   "source": [
    "id = 651\n",
    "\n",
    "batch = dataloaders[mode].dataset.__getitem__(id) \n",
    "segs = dataloaders[mode].dataset.read_segs(id)\n",
    "\n",
    "plt.figure()\n",
    "plt.imshow(batch['x'][0], cmap='gray')\n",
    "\n",
    "plt.figure()\n",
    "plt.imshow(segs['Left-Lung'][0], cmap=\"gray\")\n",
    "\n",
    "plt.figure()\n",
    "plt.imshow(segs['Right-Lung'][0], cmap=\"gray\")\n",
    "\n",
    "plt.figure()\n",
    "plt.imshow(segs['Heart'][0], cmap=\"gray\")"
   ]
  },
  {
   "cell_type": "code",
   "execution_count": null,
   "metadata": {},
   "outputs": [],
   "source": []
  },
  {
   "cell_type": "code",
   "execution_count": null,
   "metadata": {},
   "outputs": [],
   "source": []
  },
  {
   "cell_type": "code",
   "execution_count": null,
   "metadata": {},
   "outputs": [],
   "source": []
  },
  {
   "cell_type": "code",
   "execution_count": null,
   "metadata": {},
   "outputs": [],
   "source": []
  },
  {
   "cell_type": "code",
   "execution_count": null,
   "metadata": {},
   "outputs": [],
   "source": []
  },
  {
   "cell_type": "code",
   "execution_count": null,
   "metadata": {},
   "outputs": [],
   "source": []
  }
 ],
 "metadata": {
  "kernelspec": {
   "display_name": "tian_breast",
   "language": "python",
   "name": "python3"
  },
  "language_info": {
   "codemirror_mode": {
    "name": "ipython",
    "version": 3
   },
   "file_extension": ".py",
   "mimetype": "text/x-python",
   "name": "python",
   "nbconvert_exporter": "python",
   "pygments_lexer": "ipython3",
   "version": "3.11.8"
  }
 },
 "nbformat": 4,
 "nbformat_minor": 2
}
